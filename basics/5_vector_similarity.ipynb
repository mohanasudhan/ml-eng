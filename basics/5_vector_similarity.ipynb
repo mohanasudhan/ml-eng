{
 "cells": [
  {
   "cell_type": "markdown",
   "metadata": {},
   "source": [
    "# How to measure vector similarity?\n",
    "\n",
    "To measure the similarity or closeness between two word embeddings, you can use cosine similarity. Cosine similarity measures the cosine of the angle between two vectors and ranges from -1 to 1, where 1 indicates that the vectors are identical, 0 indicates that the vectors are orthogonal (i.e., have no similarity), and -1 indicates that the vectors are opposite."
   ]
  },
  {
   "cell_type": "code",
   "execution_count": 1,
   "metadata": {},
   "outputs": [
    {
     "name": "stdout",
     "output_type": "stream",
     "text": [
      "Cosine Similarity: 0.9492481892299481\n"
     ]
    }
   ],
   "source": [
    "import numpy as np\n",
    "from numpy.linalg import norm\n",
    "\n",
    "def cosine_similarity(embedding1, embedding2):\n",
    "    \"\"\"\n",
    "    Calculate cosine similarity between two embeddings.\n",
    "    \n",
    "    Parameters:\n",
    "        embedding1 (numpy.ndarray): First embedding vector.\n",
    "        embedding2 (numpy.ndarray): Second embedding vector.\n",
    "        \n",
    "    Returns:\n",
    "        float: Cosine similarity between the two embeddings.\n",
    "    \"\"\"\n",
    "    # Calculate dot product of the two embeddings\n",
    "    dot_product = np.dot(embedding1, embedding2)\n",
    "    \n",
    "    # Calculate magnitudes of the embeddings\n",
    "    norm1 = norm(embedding1)\n",
    "    norm2 = norm(embedding2)\n",
    "    \n",
    "    # Calculate cosine similarity\n",
    "    similarity = dot_product / (norm1 * norm2)\n",
    "    \n",
    "    return similarity\n",
    "\n",
    "# Example usage\n",
    "embedding1 = np.array([0.5, 0.3, -0.2])\n",
    "embedding2 = np.array([0.7, 0.2, -0.1])\n",
    "\n",
    "similarity = cosine_similarity(embedding1, embedding2)\n",
    "print(\"Cosine Similarity:\", similarity)\n"
   ]
  },
  {
   "cell_type": "markdown",
   "metadata": {},
   "source": [
    "Imagine you have two vectors represented by arrows on a piece of paper. The dot product of these two vectors is a measure of how aligned or similar they are in direction. To compute the dot product, you align the two vectors tail-to-tail and measure the length of the projection of one vector onto the other. If the vectors point in the same direction, the dot product is positive; if they point in opposite directions, the dot product is negative; and if they are perpendicular, the dot product is zero.\n",
    "\n",
    "Now, let's talk about normalization. Imagine you want to measure the length of a vector, which represents its magnitude or size. The normalization process involves dividing the vector by its length, which scales it down to a unit vector (a vector with length 1) pointing in the same direction. This allows us to compare vectors of different lengths on an equal footing.\n",
    "\n",
    "So, when we compute the cosine similarity between two vectors, we first compute the dot product to measure their alignment. Then, we normalize each vector by dividing it by its length (norm) to ensure they are unit vectors. Finally, we divide the dot product by the product of the norms to obtain a value between -1 and 1, representing the cosine of the angle between the vectors. This value indicates how similar or aligned the vectors are in direction, with higher values indicating greater similarity."
   ]
  }
 ],
 "metadata": {
  "kernelspec": {
   "display_name": "venv-3.11",
   "language": "python",
   "name": "python3"
  },
  "language_info": {
   "codemirror_mode": {
    "name": "ipython",
    "version": 3
   },
   "file_extension": ".py",
   "mimetype": "text/x-python",
   "name": "python",
   "nbconvert_exporter": "python",
   "pygments_lexer": "ipython3",
   "version": "3.11.4"
  }
 },
 "nbformat": 4,
 "nbformat_minor": 2
}
