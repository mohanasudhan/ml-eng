{
 "cells": [
  {
   "cell_type": "markdown",
   "metadata": {},
   "source": [
    "# What is encoding?\n",
    "\n",
    "Encoding involves converting categories into numeric representations.\n",
    "\n",
    "Encoding includes techniques like one-hot encoding, ordinal encoding, and binary encoding.\n",
    "One-hot encoding represents each category with a binary vector, suitable for nominal data.\n",
    "Ordinal encoding assigns unique integers to categories based on their order, suitable for\n",
    "ordinal data. Binary encoding combines ordinal and one-hot encoding, converting ordinal\n",
    "numbers into binary code."
   ]
  },
  {
   "cell_type": "markdown",
   "metadata": {},
   "source": [
    "Notebook tested in venv-3.11.4"
   ]
  },
  {
   "cell_type": "code",
   "execution_count": 12,
   "metadata": {},
   "outputs": [
    {
     "name": "stdout",
     "output_type": "stream",
     "text": [
      "Original DataFrame:\n",
      "   Color     Shape\n",
      "0    Red    Circle\n",
      "1  Green  Triangle\n",
      "2   Blue    Square\n",
      "3    Red    Circle\n",
      "4   Blue    Square\n",
      "\n",
      "Encoded DataFrame:\n",
      "   Color_Blue  Color_Green  Color_Red  Shape_Circle  Shape_Square  \\\n",
      "0       False        False       True          True         False   \n",
      "1       False         True      False         False         False   \n",
      "2        True        False      False         False          True   \n",
      "3       False        False       True          True         False   \n",
      "4        True        False      False         False          True   \n",
      "\n",
      "   Shape_Triangle  \n",
      "0           False  \n",
      "1            True  \n",
      "2           False  \n",
      "3           False  \n",
      "4           False  \n"
     ]
    }
   ],
   "source": [
    "import pandas as pd\n",
    "\n",
    "# Sample dataset\n",
    "data = {'Color': ['Red', 'Green', 'Blue', 'Red', 'Blue'],\n",
    "        'Shape': ['Circle', 'Triangle', 'Square', 'Circle', 'Square']}\n",
    "\n",
    "# Creating DataFrame\n",
    "df = pd.DataFrame(data)\n",
    "\n",
    "# One-hot encoding using Pandas\n",
    "encoded_df = pd.get_dummies(df)\n",
    "\n",
    "# Displaying original and encoded DataFrame\n",
    "print(\"Original DataFrame:\")\n",
    "print(df)\n",
    "print(\"\\nEncoded DataFrame:\")\n",
    "print(encoded_df)"
   ]
  },
  {
   "cell_type": "code",
   "execution_count": 14,
   "metadata": {},
   "outputs": [
    {
     "name": "stdout",
     "output_type": "stream",
     "text": [
      "   Color_Red  Color_Green  Color_Blue  Shape_Circle  Shape_Triangle  \\\n",
      "0          1            0           0             1               0   \n",
      "1          0            1           0             0               1   \n",
      "2          0            0           1             0               0   \n",
      "3          1            0           0             1               0   \n",
      "4          0            0           1             0               0   \n",
      "\n",
      "   Shape_Square  \n",
      "0             0  \n",
      "1             0  \n",
      "2             1  \n",
      "3             0  \n",
      "4             1  \n"
     ]
    }
   ],
   "source": [
    "def custom_get_dummies(df):\n",
    "    \"\"\"\n",
    "    Custom implementation of one-hot encoding using Pandas.\n",
    "    \n",
    "    Parameters:\n",
    "    - df (DataFrame): Input DataFrame with categorical variables.\n",
    "    \n",
    "    Returns:\n",
    "    - encoded_df (DataFrame): DataFrame with one-hot encoded columns.\n",
    "    \"\"\"\n",
    "    # Copy the original DataFrame to avoid modifying it\n",
    "    encoded_df = df.copy()\n",
    "    \n",
    "    # Iterate over each column in the DataFrame\n",
    "    for column in df.columns:\n",
    "        # Check if the column contains categorical data\n",
    "        if df[column].dtype == 'object':\n",
    "            # Get unique categories in the column\n",
    "            categories = df[column].unique()\n",
    "            \n",
    "            # Iterate over each category and create a new binary column for it\n",
    "            for category in categories:\n",
    "                # Create a new binary column with the category name\n",
    "                encoded_df[f\"{column}_{category}\"] = (df[column] == category).astype(int)\n",
    "            \n",
    "            # Drop the original categorical column\n",
    "            encoded_df.drop(columns=[column], inplace=True)\n",
    "    \n",
    "    return encoded_df\n",
    "\n",
    "# Test the custom_get_dummies function with sample data\n",
    "data = {'Color': ['Red', 'Green', 'Blue', 'Red', 'Blue'],\n",
    "        'Shape': ['Circle', 'Triangle', 'Square', 'Circle', 'Square']}\n",
    "df = pd.DataFrame(data)\n",
    "\n",
    "encoded_df = custom_get_dummies(df)\n",
    "print(encoded_df)\n"
   ]
  },
  {
   "cell_type": "code",
   "execution_count": 13,
   "metadata": {},
   "outputs": [
    {
     "name": "stdout",
     "output_type": "stream",
     "text": [
      "Requirement already satisfied: scikit-learn in /Users/mohanasudhangandhi/.pyenv/versions/venv-3.11/lib/python3.11/site-packages (1.4.1.post1)\n",
      "Requirement already satisfied: numpy<2.0,>=1.19.5 in /Users/mohanasudhangandhi/.pyenv/versions/venv-3.11/lib/python3.11/site-packages (from scikit-learn) (1.25.2)\n",
      "Requirement already satisfied: scipy>=1.6.0 in /Users/mohanasudhangandhi/.pyenv/versions/venv-3.11/lib/python3.11/site-packages (from scikit-learn) (1.12.0)\n",
      "Requirement already satisfied: joblib>=1.2.0 in /Users/mohanasudhangandhi/.pyenv/versions/venv-3.11/lib/python3.11/site-packages (from scikit-learn) (1.3.2)\n",
      "Requirement already satisfied: threadpoolctl>=2.0.0 in /Users/mohanasudhangandhi/.pyenv/versions/venv-3.11/lib/python3.11/site-packages (from scikit-learn) (3.3.0)\n",
      "\n",
      "\u001b[1m[\u001b[0m\u001b[34;49mnotice\u001b[0m\u001b[1;39;49m]\u001b[0m\u001b[39;49m A new release of pip is available: \u001b[0m\u001b[31;49m23.2.1\u001b[0m\u001b[39;49m -> \u001b[0m\u001b[32;49m24.0\u001b[0m\n",
      "\u001b[1m[\u001b[0m\u001b[34;49mnotice\u001b[0m\u001b[1;39;49m]\u001b[0m\u001b[39;49m To update, run: \u001b[0m\u001b[32;49mpython3.11 -m pip install --upgrade pip\u001b[0m\n"
     ]
    }
   ],
   "source": [
    "# For one-hot encoding we can also use scikit learn lib\n",
    "!pip install scikit-learn"
   ]
  },
  {
   "cell_type": "code",
   "execution_count": 9,
   "metadata": {},
   "outputs": [
    {
     "name": "stdout",
     "output_type": "stream",
     "text": [
      "Original DataFrame:\n",
      "   Color\n",
      "0    Red\n",
      "1  Green\n",
      "2   Blue\n",
      "3    Red\n",
      "4   Blue\n",
      "\n",
      "Encoded DataFrame:\n",
      "   Color_Blue  Color_Green  Color_Red\n",
      "0         0.0          0.0        1.0\n",
      "1         0.0          1.0        0.0\n",
      "2         1.0          0.0        0.0\n",
      "3         0.0          0.0        1.0\n",
      "4         1.0          0.0        0.0\n"
     ]
    }
   ],
   "source": [
    "import pandas as pd\n",
    "from sklearn.preprocessing import OneHotEncoder\n",
    "\n",
    "# Sample data\n",
    "data = {'Color': ['Red', 'Green', 'Blue', 'Red', 'Blue']}\n",
    "df = pd.DataFrame(data)\n",
    "\n",
    "# Encoding using OneHotEncoder\n",
    "encoder = OneHotEncoder()\n",
    "encoded_data = encoder.fit_transform(df[['Color']]).toarray()\n",
    "\n",
    "# Creating DataFrame from encoded data\n",
    "encoded_df = pd.DataFrame(encoded_data, columns=encoder.get_feature_names_out(['Color']))\n",
    "\n",
    "print(\"Original DataFrame:\")\n",
    "print(df)\n",
    "print(\"\\nEncoded DataFrame:\")\n",
    "print(encoded_df)"
   ]
  },
  {
   "cell_type": "markdown",
   "metadata": {},
   "source": [
    "# Binary encoder\n",
    "\n",
    "Install the category_encoders library if you haven't already"
   ]
  },
  {
   "cell_type": "code",
   "execution_count": 10,
   "metadata": {},
   "outputs": [
    {
     "name": "stdout",
     "output_type": "stream",
     "text": [
      "Requirement already satisfied: category_encoders in /Users/mohanasudhangandhi/.pyenv/versions/venv-3.11/lib/python3.11/site-packages (2.6.3)\n",
      "Requirement already satisfied: numpy>=1.14.0 in /Users/mohanasudhangandhi/.pyenv/versions/venv-3.11/lib/python3.11/site-packages (from category_encoders) (1.25.2)\n",
      "Requirement already satisfied: scikit-learn>=0.20.0 in /Users/mohanasudhangandhi/.pyenv/versions/venv-3.11/lib/python3.11/site-packages (from category_encoders) (1.4.1.post1)\n",
      "Requirement already satisfied: scipy>=1.0.0 in /Users/mohanasudhangandhi/.pyenv/versions/venv-3.11/lib/python3.11/site-packages (from category_encoders) (1.12.0)\n",
      "Requirement already satisfied: statsmodels>=0.9.0 in /Users/mohanasudhangandhi/.pyenv/versions/venv-3.11/lib/python3.11/site-packages (from category_encoders) (0.14.1)\n",
      "Requirement already satisfied: pandas>=1.0.5 in /Users/mohanasudhangandhi/.pyenv/versions/venv-3.11/lib/python3.11/site-packages (from category_encoders) (2.0.3)\n",
      "Requirement already satisfied: patsy>=0.5.1 in /Users/mohanasudhangandhi/.pyenv/versions/venv-3.11/lib/python3.11/site-packages (from category_encoders) (0.5.6)\n",
      "Requirement already satisfied: python-dateutil>=2.8.2 in /Users/mohanasudhangandhi/.pyenv/versions/venv-3.11/lib/python3.11/site-packages (from pandas>=1.0.5->category_encoders) (2.8.2)\n",
      "Requirement already satisfied: pytz>=2020.1 in /Users/mohanasudhangandhi/.pyenv/versions/venv-3.11/lib/python3.11/site-packages (from pandas>=1.0.5->category_encoders) (2023.3)\n",
      "Requirement already satisfied: tzdata>=2022.1 in /Users/mohanasudhangandhi/.pyenv/versions/venv-3.11/lib/python3.11/site-packages (from pandas>=1.0.5->category_encoders) (2023.3)\n",
      "Requirement already satisfied: six in /Users/mohanasudhangandhi/.pyenv/versions/venv-3.11/lib/python3.11/site-packages (from patsy>=0.5.1->category_encoders) (1.16.0)\n",
      "Requirement already satisfied: joblib>=1.2.0 in /Users/mohanasudhangandhi/.pyenv/versions/venv-3.11/lib/python3.11/site-packages (from scikit-learn>=0.20.0->category_encoders) (1.3.2)\n",
      "Requirement already satisfied: threadpoolctl>=2.0.0 in /Users/mohanasudhangandhi/.pyenv/versions/venv-3.11/lib/python3.11/site-packages (from scikit-learn>=0.20.0->category_encoders) (3.3.0)\n",
      "Requirement already satisfied: packaging>=21.3 in /Users/mohanasudhangandhi/.pyenv/versions/venv-3.11/lib/python3.11/site-packages (from statsmodels>=0.9.0->category_encoders) (24.0)\n",
      "\n",
      "\u001b[1m[\u001b[0m\u001b[34;49mnotice\u001b[0m\u001b[1;39;49m]\u001b[0m\u001b[39;49m A new release of pip is available: \u001b[0m\u001b[31;49m23.2.1\u001b[0m\u001b[39;49m -> \u001b[0m\u001b[32;49m24.0\u001b[0m\n",
      "\u001b[1m[\u001b[0m\u001b[34;49mnotice\u001b[0m\u001b[1;39;49m]\u001b[0m\u001b[39;49m To update, run: \u001b[0m\u001b[32;49mpython3.11 -m pip install --upgrade pip\u001b[0m\n"
     ]
    }
   ],
   "source": [
    "!pip install category_encoders"
   ]
  },
  {
   "cell_type": "code",
   "execution_count": 11,
   "metadata": {},
   "outputs": [
    {
     "name": "stdout",
     "output_type": "stream",
     "text": [
      "Original DataFrame:\n",
      "   Color\n",
      "0    Red\n",
      "1  Green\n",
      "2   Blue\n",
      "3    Red\n",
      "4   Blue\n",
      "\n",
      "Encoded DataFrame:\n",
      "   Color_0  Color_1\n",
      "0        0        1\n",
      "1        1        0\n",
      "2        1        1\n",
      "3        0        1\n",
      "4        1        1\n"
     ]
    }
   ],
   "source": [
    "import pandas as pd\n",
    "import category_encoders as ce\n",
    "\n",
    "# Sample data\n",
    "data = {'Color': ['Red', 'Green', 'Blue', 'Red', 'Blue']}\n",
    "df = pd.DataFrame(data)\n",
    "\n",
    "# Encoding using Binary Encoder\n",
    "encoder = ce.BinaryEncoder(cols=['Color'])\n",
    "encoded_data = encoder.fit_transform(df)\n",
    "\n",
    "print(\"Original DataFrame:\")\n",
    "print(df)\n",
    "print(\"\\nEncoded DataFrame:\")\n",
    "print(encoded_data) # Red is 0, green is 1 and blue is 2 - then translated to binary representation"
   ]
  }
 ],
 "metadata": {
  "kernelspec": {
   "display_name": "venv-3.11",
   "language": "python",
   "name": "python3"
  },
  "language_info": {
   "codemirror_mode": {
    "name": "ipython",
    "version": 3
   },
   "file_extension": ".py",
   "mimetype": "text/x-python",
   "name": "python",
   "nbconvert_exporter": "python",
   "pygments_lexer": "ipython3",
   "version": "3.11.4"
  }
 },
 "nbformat": 4,
 "nbformat_minor": 2
}
